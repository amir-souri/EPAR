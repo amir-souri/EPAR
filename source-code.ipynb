{
 "cells": [
  {
   "cell_type": "markdown",
   "metadata": {},
   "source": [
    "# **Imports and listed versions**"
   ]
  },
  {
   "cell_type": "code",
   "execution_count": 1,
   "metadata": {},
   "outputs": [],
   "source": [
    "import pandas as pd\n",
    "import seaborn as sns\n",
    "import tensorflow as tf\n",
    "import matplotlib.pyplot as plt\n",
    "import sklearn\n",
    "import matplotlib\n",
    "from sklearn.model_selection import train_test_split\n",
    "from sklearn.utils import resample\n",
    "from sklearn.linear_model import LogisticRegression\n",
    "from sklearn.ensemble import RandomForestClassifier\n",
    "from sklearn import svm\n",
    "from sklearn.metrics import plot_confusion_matrix, confusion_matrix \n",
    "from sklearn.feature_selection import SelectKBest, chi2 "
   ]
  },
  {
   "cell_type": "code",
   "execution_count": 2,
   "metadata": {},
   "outputs": [
    {
     "name": "stdout",
     "output_type": "stream",
     "text": [
      "tensorflow==2.2.0\n",
      "pandas==1.1.3\n",
      "sklearn==0.23.2\n",
      "matplotlib==3.3.1\n",
      "seaborn==0.11.0\n"
     ]
    }
   ],
   "source": [
    "print(f'tensorflow=={tf.__version__}')\n",
    "print(f'pandas=={pd.__version__}')\n",
    "print(f'sklearn=={sklearn.__version__}')\n",
    "print(f'matplotlib=={matplotlib.__version__}')\n",
    "print(f'seaborn=={sns.__version__}')"
   ]
  },
  {
   "cell_type": "markdown",
   "metadata": {},
   "source": [
    "# **Hyperparameters**"
   ]
  },
  {
   "cell_type": "code",
   "execution_count": 3,
   "metadata": {},
   "outputs": [],
   "source": [
    "validation_size = 0.25\n",
    "seed = 111"
   ]
  },
  {
   "cell_type": "markdown",
   "metadata": {},
   "source": [
    "# **Load dataset that is an xlsx file**"
   ]
  },
  {
   "cell_type": "code",
   "execution_count": 4,
   "metadata": {},
   "outputs": [],
   "source": [
    "df = pd.read_excel(\"Medicines_output_european_public_assessment_reports.xlsx\", skiprows=[0,1,2,3,4,5,6,7])"
   ]
  },
  {
   "cell_type": "markdown",
   "metadata": {},
   "source": [
    "**Number of rows (instances) and columns**"
   ]
  },
  {
   "cell_type": "code",
   "execution_count": 5,
   "metadata": {},
   "outputs": [
    {
     "name": "stdout",
     "output_type": "stream",
     "text": [
      "Number of rows: 1562. Nuymber of columns: 30\n"
     ]
    }
   ],
   "source": [
    "print(f'Number of rows: {df.shape[0]}. Nuymber of columns: {df.shape[1]}')"
   ]
  },
  {
   "cell_type": "markdown",
   "metadata": {},
   "source": [
    "**Looking at the first five rows**"
   ]
  },
  {
   "cell_type": "code",
   "execution_count": 6,
   "metadata": {},
   "outputs": [
    {
     "data": {
      "text/html": [
       "<div>\n",
       "<style scoped>\n",
       "    .dataframe tbody tr th:only-of-type {\n",
       "        vertical-align: middle;\n",
       "    }\n",
       "\n",
       "    .dataframe tbody tr th {\n",
       "        vertical-align: top;\n",
       "    }\n",
       "\n",
       "    .dataframe thead th {\n",
       "        text-align: right;\n",
       "    }\n",
       "</style>\n",
       "<table border=\"1\" class=\"dataframe\">\n",
       "  <thead>\n",
       "    <tr style=\"text-align: right;\">\n",
       "      <th></th>\n",
       "      <th>Category</th>\n",
       "      <th>Medicine name</th>\n",
       "      <th>Therapeutic area</th>\n",
       "      <th>International non-proprietary name (INN) / common name</th>\n",
       "      <th>Active substance</th>\n",
       "      <th>Product number</th>\n",
       "      <th>Patient safety</th>\n",
       "      <th>Authorisation status</th>\n",
       "      <th>ATC code</th>\n",
       "      <th>Additional monitoring</th>\n",
       "      <th>...</th>\n",
       "      <th>Vet pharmacotherapeutic group</th>\n",
       "      <th>Date of opinion</th>\n",
       "      <th>Decision date</th>\n",
       "      <th>Revision number</th>\n",
       "      <th>Condition / indication</th>\n",
       "      <th>Species</th>\n",
       "      <th>ATCvet code</th>\n",
       "      <th>First published</th>\n",
       "      <th>Revision date</th>\n",
       "      <th>URL</th>\n",
       "    </tr>\n",
       "  </thead>\n",
       "  <tbody>\n",
       "    <tr>\n",
       "      <th>0</th>\n",
       "      <td>Human</td>\n",
       "      <td>Simponi</td>\n",
       "      <td>Arthritis, Psoriatic, Spondylitis, Ankylosing,...</td>\n",
       "      <td>golimumab</td>\n",
       "      <td>Golimumab</td>\n",
       "      <td>EMEA/H/C/000992</td>\n",
       "      <td>no</td>\n",
       "      <td>Authorised</td>\n",
       "      <td>L04AB06</td>\n",
       "      <td>no</td>\n",
       "      <td>...</td>\n",
       "      <td>NaN</td>\n",
       "      <td>NaN</td>\n",
       "      <td>06/09/2018</td>\n",
       "      <td>32.0</td>\n",
       "      <td>Arthritis, rheumatoid, \\tAxial spondyloarthrit...</td>\n",
       "      <td>NaN</td>\n",
       "      <td>NaN</td>\n",
       "      <td>, ,   02/07/2018, ,</td>\n",
       "      <td>20/12/2018</td>\n",
       "      <td>https://www.ema.europa.eu/en/medicines/human/E...</td>\n",
       "    </tr>\n",
       "    <tr>\n",
       "      <th>1</th>\n",
       "      <td>Human</td>\n",
       "      <td>Moventig</td>\n",
       "      <td>Constipation, Opioid-Related Disorders</td>\n",
       "      <td>naloxegol</td>\n",
       "      <td>naloxegol oxalate</td>\n",
       "      <td>EMEA/H/C/002810</td>\n",
       "      <td>no</td>\n",
       "      <td>Authorised</td>\n",
       "      <td>A06AH03</td>\n",
       "      <td>yes</td>\n",
       "      <td>...</td>\n",
       "      <td>NaN</td>\n",
       "      <td>NaN</td>\n",
       "      <td>12/12/2018</td>\n",
       "      <td>8.0</td>\n",
       "      <td>Treatment of opioid-induced constipation (OIC)...</td>\n",
       "      <td>NaN</td>\n",
       "      <td>NaN</td>\n",
       "      <td>, ,   23/07/2018, ,</td>\n",
       "      <td>20/12/2018</td>\n",
       "      <td>https://www.ema.europa.eu/en/medicines/human/E...</td>\n",
       "    </tr>\n",
       "    <tr>\n",
       "      <th>2</th>\n",
       "      <td>Veterinary</td>\n",
       "      <td>Imrestor</td>\n",
       "      <td>NaN</td>\n",
       "      <td>Pegbovigrastim</td>\n",
       "      <td>Pegbovigrastim</td>\n",
       "      <td>EMEA/V/C/002763</td>\n",
       "      <td>no</td>\n",
       "      <td>Authorised</td>\n",
       "      <td>NaN</td>\n",
       "      <td>no</td>\n",
       "      <td>...</td>\n",
       "      <td>Antineoplastic and immunomodulating agents imm...</td>\n",
       "      <td>NaN</td>\n",
       "      <td>07/12/2018</td>\n",
       "      <td>1.0</td>\n",
       "      <td>As an aid in a herd management programme, to r...</td>\n",
       "      <td>Cattle (cows and heifers), Cattle</td>\n",
       "      <td>QL03AA90</td>\n",
       "      <td>, ,   09/12/2015, ,</td>\n",
       "      <td>20/12/2018</td>\n",
       "      <td>https://www.ema.europa.eu/en/medicines/veterin...</td>\n",
       "    </tr>\n",
       "    <tr>\n",
       "      <th>3</th>\n",
       "      <td>Human</td>\n",
       "      <td>Odomzo</td>\n",
       "      <td>Carcinoma, Basal Cell</td>\n",
       "      <td>sonidegib</td>\n",
       "      <td>sonidegib diphosphate</td>\n",
       "      <td>EMEA/H/C/002839</td>\n",
       "      <td>no</td>\n",
       "      <td>Authorised</td>\n",
       "      <td>L01XX</td>\n",
       "      <td>yes</td>\n",
       "      <td>...</td>\n",
       "      <td>NaN</td>\n",
       "      <td>25/06/2015</td>\n",
       "      <td>02/10/2018</td>\n",
       "      <td>6.0</td>\n",
       "      <td>Odomzo is indicated for the treatment of adult...</td>\n",
       "      <td>NaN</td>\n",
       "      <td>NaN</td>\n",
       "      <td>, ,   25/01/2018, ,</td>\n",
       "      <td>20/12/2018</td>\n",
       "      <td>https://www.ema.europa.eu/en/medicines/human/E...</td>\n",
       "    </tr>\n",
       "    <tr>\n",
       "      <th>4</th>\n",
       "      <td>Human</td>\n",
       "      <td>Ivabradine JensonR</td>\n",
       "      <td>Angina Pectoris, Heart Failure</td>\n",
       "      <td>ivabradine</td>\n",
       "      <td>ivabradine hydrochloride</td>\n",
       "      <td>EMEA/H/C/004217</td>\n",
       "      <td>no</td>\n",
       "      <td>Withdrawn</td>\n",
       "      <td>C01EB17</td>\n",
       "      <td>no</td>\n",
       "      <td>...</td>\n",
       "      <td>NaN</td>\n",
       "      <td>15/06/2016</td>\n",
       "      <td>11/11/2016</td>\n",
       "      <td>0.0</td>\n",
       "      <td>Symptomatic treatment of chronic stable angina...</td>\n",
       "      <td>NaN</td>\n",
       "      <td>NaN</td>\n",
       "      <td>, ,   11/11/2016, ,</td>\n",
       "      <td>20/12/2018</td>\n",
       "      <td>https://www.ema.europa.eu/en/medicines/human/E...</td>\n",
       "    </tr>\n",
       "  </tbody>\n",
       "</table>\n",
       "<p>5 rows × 30 columns</p>\n",
       "</div>"
      ],
      "text/plain": [
       "     Category       Medicine name  \\\n",
       "0       Human             Simponi   \n",
       "1       Human            Moventig   \n",
       "2  Veterinary            Imrestor   \n",
       "3       Human              Odomzo   \n",
       "4       Human  Ivabradine JensonR   \n",
       "\n",
       "                                    Therapeutic area  \\\n",
       "0  Arthritis, Psoriatic, Spondylitis, Ankylosing,...   \n",
       "1             Constipation, Opioid-Related Disorders   \n",
       "2                                                NaN   \n",
       "3                              Carcinoma, Basal Cell   \n",
       "4                     Angina Pectoris, Heart Failure   \n",
       "\n",
       "  International non-proprietary name (INN) / common name  \\\n",
       "0                                          golimumab       \n",
       "1                                          naloxegol       \n",
       "2                                     Pegbovigrastim       \n",
       "3                                          sonidegib       \n",
       "4                                         ivabradine       \n",
       "\n",
       "           Active substance   Product number Patient safety  \\\n",
       "0                 Golimumab  EMEA/H/C/000992             no   \n",
       "1         naloxegol oxalate  EMEA/H/C/002810             no   \n",
       "2            Pegbovigrastim  EMEA/V/C/002763             no   \n",
       "3     sonidegib diphosphate  EMEA/H/C/002839             no   \n",
       "4  ivabradine hydrochloride  EMEA/H/C/004217             no   \n",
       "\n",
       "  Authorisation status ATC code Additional monitoring  ...  \\\n",
       "0           Authorised  L04AB06                    no  ...   \n",
       "1           Authorised  A06AH03                   yes  ...   \n",
       "2           Authorised      NaN                    no  ...   \n",
       "3           Authorised    L01XX                   yes  ...   \n",
       "4            Withdrawn  C01EB17                    no  ...   \n",
       "\n",
       "                       Vet pharmacotherapeutic group Date of opinion  \\\n",
       "0                                                NaN             NaN   \n",
       "1                                                NaN             NaN   \n",
       "2  Antineoplastic and immunomodulating agents imm...             NaN   \n",
       "3                                                NaN      25/06/2015   \n",
       "4                                                NaN      15/06/2016   \n",
       "\n",
       "  Decision date Revision number  \\\n",
       "0    06/09/2018            32.0   \n",
       "1    12/12/2018             8.0   \n",
       "2    07/12/2018             1.0   \n",
       "3    02/10/2018             6.0   \n",
       "4    11/11/2016             0.0   \n",
       "\n",
       "                              Condition / indication  \\\n",
       "0  Arthritis, rheumatoid, \\tAxial spondyloarthrit...   \n",
       "1  Treatment of opioid-induced constipation (OIC)...   \n",
       "2  As an aid in a herd management programme, to r...   \n",
       "3  Odomzo is indicated for the treatment of adult...   \n",
       "4  Symptomatic treatment of chronic stable angina...   \n",
       "\n",
       "                             Species ATCvet code       First published  \\\n",
       "0                                NaN         NaN  , ,   02/07/2018, ,    \n",
       "1                                NaN         NaN  , ,   23/07/2018, ,    \n",
       "2  Cattle (cows and heifers), Cattle    QL03AA90  , ,   09/12/2015, ,    \n",
       "3                                NaN         NaN  , ,   25/01/2018, ,    \n",
       "4                                NaN         NaN  , ,   11/11/2016, ,    \n",
       "\n",
       "  Revision date                                                URL  \n",
       "0    20/12/2018  https://www.ema.europa.eu/en/medicines/human/E...  \n",
       "1    20/12/2018  https://www.ema.europa.eu/en/medicines/human/E...  \n",
       "2    20/12/2018  https://www.ema.europa.eu/en/medicines/veterin...  \n",
       "3    20/12/2018  https://www.ema.europa.eu/en/medicines/human/E...  \n",
       "4    20/12/2018  https://www.ema.europa.eu/en/medicines/human/E...  \n",
       "\n",
       "[5 rows x 30 columns]"
      ]
     },
     "execution_count": 6,
     "metadata": {},
     "output_type": "execute_result"
    }
   ],
   "source": [
    "df.head()"
   ]
  },
  {
   "cell_type": "markdown",
   "metadata": {},
   "source": [
    "# **Data cleaning and visualization**"
   ]
  },
  {
   "cell_type": "markdown",
   "metadata": {},
   "source": [
    "**Check for duplicate values in the dataframe**"
   ]
  },
  {
   "cell_type": "code",
   "execution_count": 7,
   "metadata": {},
   "outputs": [
    {
     "data": {
      "text/html": [
       "<div>\n",
       "<style scoped>\n",
       "    .dataframe tbody tr th:only-of-type {\n",
       "        vertical-align: middle;\n",
       "    }\n",
       "\n",
       "    .dataframe tbody tr th {\n",
       "        vertical-align: top;\n",
       "    }\n",
       "\n",
       "    .dataframe thead th {\n",
       "        text-align: right;\n",
       "    }\n",
       "</style>\n",
       "<table border=\"1\" class=\"dataframe\">\n",
       "  <thead>\n",
       "    <tr style=\"text-align: right;\">\n",
       "      <th></th>\n",
       "      <th>Category</th>\n",
       "      <th>Medicine name</th>\n",
       "      <th>Therapeutic area</th>\n",
       "      <th>International non-proprietary name (INN) / common name</th>\n",
       "      <th>Active substance</th>\n",
       "      <th>Product number</th>\n",
       "      <th>Patient safety</th>\n",
       "      <th>Authorisation status</th>\n",
       "      <th>ATC code</th>\n",
       "      <th>Additional monitoring</th>\n",
       "      <th>...</th>\n",
       "      <th>Vet pharmacotherapeutic group</th>\n",
       "      <th>Date of opinion</th>\n",
       "      <th>Decision date</th>\n",
       "      <th>Revision number</th>\n",
       "      <th>Condition / indication</th>\n",
       "      <th>Species</th>\n",
       "      <th>ATCvet code</th>\n",
       "      <th>First published</th>\n",
       "      <th>Revision date</th>\n",
       "      <th>URL</th>\n",
       "    </tr>\n",
       "  </thead>\n",
       "  <tbody>\n",
       "  </tbody>\n",
       "</table>\n",
       "<p>0 rows × 30 columns</p>\n",
       "</div>"
      ],
      "text/plain": [
       "Empty DataFrame\n",
       "Columns: [Category, Medicine name, Therapeutic area, International non-proprietary name (INN) / common name, Active substance, Product number, Patient safety, Authorisation status, ATC code, Additional monitoring, Generic, Biosimilar, Conditional approval, Exceptional circumstances, Accelerated assessment, Orphan medicine, Marketing authorisation date, Date of refusal of marketing authorisation, Marketing authorisation holder/company name, Human pharmacotherapeutic group, Vet pharmacotherapeutic group, Date of opinion, Decision date, Revision number, Condition / indication, Species, ATCvet code, First published, Revision date, URL]\n",
       "Index: []\n",
       "\n",
       "[0 rows x 30 columns]"
      ]
     },
     "execution_count": 7,
     "metadata": {},
     "output_type": "execute_result"
    }
   ],
   "source": [
    "df[df.duplicated()]"
   ]
  },
  {
   "cell_type": "markdown",
   "metadata": {},
   "source": [
    "**Input features set and target variable**"
   ]
  },
  {
   "cell_type": "code",
   "execution_count": 8,
   "metadata": {},
   "outputs": [],
   "source": [
    "data = df[[\"Category\", \"Patient safety\", \"Additional monitoring\", \"Generic\", \"Biosimilar\", \"Conditional approval\", \"Exceptional circumstances\", \"Accelerated assessment\", \"Orphan medicine\", 'Authorisation status']]"
   ]
  },
  {
   "cell_type": "markdown",
   "metadata": {},
   "source": [
    "**Check how many missing values are in the data**"
   ]
  },
  {
   "cell_type": "code",
   "execution_count": 9,
   "metadata": {},
   "outputs": [
    {
     "data": {
      "text/plain": [
       "Category                     0\n",
       "Patient safety               0\n",
       "Additional monitoring        0\n",
       "Generic                      0\n",
       "Biosimilar                   0\n",
       "Conditional approval         0\n",
       "Exceptional circumstances    0\n",
       "Accelerated assessment       0\n",
       "Orphan medicine              0\n",
       "Authorisation status         0\n",
       "dtype: int64"
      ]
     },
     "execution_count": 9,
     "metadata": {},
     "output_type": "execute_result"
    }
   ],
   "source": [
    "pd.isnull(data).sum()"
   ]
  },
  {
   "cell_type": "markdown",
   "metadata": {},
   "source": [
    "**Print unique categories in all categorical variable**"
   ]
  },
  {
   "cell_type": "code",
   "execution_count": 10,
   "metadata": {},
   "outputs": [
    {
     "name": "stdout",
     "output_type": "stream",
     "text": [
      "Category: ['Human' 'Veterinary']\n",
      "Patient safety: ['no' 'yes']\n",
      "Additional monitoring: ['no' 'yes']\n",
      "Generic: ['no' 'yes']\n",
      "Biosimilar: ['no' 'yes']\n",
      "Conditional approval: ['no' 'yes']\n",
      "Exceptional circumstances: ['no' 'yes']\n",
      "Accelerated assessment: ['no' 'yes']\n",
      "Orphan medicine: ['no' 'yes']\n",
      "Authorisation status: ['Authorised' 'Withdrawn' 'Refused' 'Suspended']\n"
     ]
    }
   ],
   "source": [
    "print(f'Category: {df[\"Category\"].unique()}', f'Patient safety: {df[\"Patient safety\"].unique()}', f'Additional monitoring: {df[\"Additional monitoring\"].unique()}', \n",
    "      f'Generic: {df[\"Generic\"].unique()}', f'Biosimilar: {df[\"Biosimilar\"].unique()}', f'Conditional approval: {df[\"Conditional approval\"].unique()}',\n",
    "      f'Exceptional circumstances: {df[\"Exceptional circumstances\"].unique()}', f'Accelerated assessment: {df[\"Accelerated assessment\"].unique()}',\n",
    "      f'Orphan medicine: {df[\"Orphan medicine\"].unique()}', f'Authorisation status: {df[\"Authorisation status\"].unique()}' ,sep='\\n')"
   ]
  },
  {
   "cell_type": "markdown",
   "metadata": {},
   "source": [
    "**Plot frequency distribution of the categories for the target variable (Authorisation status)**"
   ]
  },
  {
   "cell_type": "code",
   "execution_count": 11,
   "metadata": {},
   "outputs": [
    {
     "data": {
      "image/png": "[encoded data removed]",
      "text/plain": [
       "<Figure size 432x288 with 1 Axes>"
      ]
     },
     "metadata": {
      "needs_background": "light"
     },
     "output_type": "display_data"
    }
   ],
   "source": [
    "status_count = data['Authorisation status'].value_counts()\n",
    "sns.countplot(x='Authorisation status',data=data, alpha=0.8)\n",
    "plt.text(2,1000, f'Authorised:{status_count.values[0]} \\n Withdrawn:{status_count.values[1]} \\n Refused:{status_count.values[2]} \\n Suspended:{status_count.values[3]}')\n",
    "plt.title('Frequency distribution of the Authorisation status')\n",
    "plt.ylabel('Number of Occurrences', fontsize=12);"
   ]
  },
  {
   "cell_type": "markdown",
   "metadata": {},
   "source": [
    "**Remove the instance that is labled as suspended**"
   ]
  },
  {
   "cell_type": "code",
   "execution_count": 12,
   "metadata": {},
   "outputs": [],
   "source": [
    "data = data.drop(data[data['Authorisation status'] == 'Suspended'].index)"
   ]
  },
  {
   "cell_type": "markdown",
   "metadata": {},
   "source": [
    "**Plot relative frequency distribution of the categories for the target variable (Authorisation status)**"
   ]
  },
  {
   "cell_type": "code",
   "execution_count": 13,
   "metadata": {},
   "outputs": [
    {
     "data": {
      "image/png": "[encoded data removed]",
      "text/plain": [
       "<Figure size 1512x504 with 2 Axes>"
      ]
     },
     "metadata": {},
     "output_type": "display_data"
    }
   ],
   "source": [
    "fig, axs = plt.subplots(nrows=1,ncols=2, figsize=(21,7))\n",
    "\n",
    "labels = data['Authorisation status'].astype('category').cat.categories.tolist()\n",
    "counts = data['Authorisation status'].value_counts()\n",
    "sizes = [counts[var_cat] for var_cat in labels]\n",
    "axs[0].pie(sizes, labels=labels, autopct='%1.1f%%', textprops={'fontsize':16}) \n",
    "axs[0].axis('equal')\n",
    "axs[0].set_xlabel('Authorisation status', fontsize=20)\n",
    "axs[0].set_title('(Suspended is removed)', fontsize=20)\n",
    "\n",
    "data = data.replace(['Authorised', 'Refused', 'Withdrawn'],[1, 0, 0])\n",
    "\n",
    "labels = data['Authorisation status'].astype('category').cat.categories.tolist()\n",
    "counts = data['Authorisation status'].value_counts()\n",
    "sizes = [counts[var_cat] for var_cat in labels]\n",
    "axs[1].pie(sizes, labels=['Unauthorised', 'Authorised'], autopct='%1.1f%%', textprops={'fontsize':16}) \n",
    "axs[1].axis('equal')\n",
    "axs[1].set_xlabel('Authorisation status', fontsize=20)\n",
    "axs[1].set_title('(Refused and Withdrawn is considered as Unauthorised)', fontsize=20);"
   ]
  },
  {
   "cell_type": "markdown",
   "metadata": {},
   "source": [
    "**Replacing values of categorical variable to numerical values for further processing**"
   ]
  },
  {
   "cell_type": "code",
   "execution_count": 14,
   "metadata": {},
   "outputs": [],
   "source": [
    "data = data.replace(['Veterinary','Human'],[0, 1])\n",
    "data = data.replace(['no'], 0)\n",
    "data = data.replace(['yes'], 1)"
   ]
  },
  {
   "cell_type": "markdown",
   "metadata": {},
   "source": [
    "**Examine relationships within data**"
   ]
  },
  {
   "cell_type": "code",
   "execution_count": 15,
   "metadata": {},
   "outputs": [],
   "source": [
    "def plot_cat_feature(d, x, y='Authorisation status', labels = ['Unauthorised', 'Authorised']):\n",
    "\n",
    "    d = d.groupby(x)[y].value_counts()\n",
    "    s = d.sum()\n",
    "    df1  = d.apply(lambda x: x / s)\n",
    "    df1 = df1.rename('percent').reset_index()\n",
    "    g = sns.catplot(x=x,y='percent',hue=y,kind='bar',data=df1, palette={1:\"blue\", 0:\"red\"})\n",
    "    g.ax.set_ylim(0,1)\n",
    "    g.set_xticklabels(['No', 'Yes'])\n",
    "    leg = g.axes.flat[0].get_legend()\n",
    "    \n",
    "    for t, l in zip(g._legend.texts, labels): t.set_text(l)\n",
    "        \n",
    "    for p in g.ax.patches:\n",
    "        txt = str(p.get_height().round(2))\n",
    "        txt_x = p.get_x() \n",
    "        txt_y = p.get_height()\n",
    "        g.ax.text(txt_x,txt_y,txt, fontdict={'size': 14})"
   ]
  },
  {
   "cell_type": "code",
   "execution_count": 16,
   "metadata": {},
   "outputs": [
    {
     "data": {
      "image/png": "[encoded data removed]",
      "text/plain": [
       "<Figure size 468.875x360 with 1 Axes>"
      ]
     },
     "metadata": {
      "needs_background": "light"
     },
     "output_type": "display_data"
    },
    {
     "data": {
      "image/png": "[encoded data removed]",
      "text/plain": [
       "<Figure size 468.875x360 with 1 Axes>"
      ]
     },
     "metadata": {
      "needs_background": "light"
     },
     "output_type": "display_data"
    },
    {
     "data": {
      "image/png": "[encoded data removed]",
      "text/plain": [
       "<Figure size 468.875x360 with 1 Axes>"
      ]
     },
     "metadata": {
      "needs_background": "light"
     },
     "output_type": "display_data"
    },
    {
     "data": {
      "image/png": "[encoded data removed]",
      "text/plain": [
       "<Figure size 468.875x360 with 1 Axes>"
      ]
     },
     "metadata": {
      "needs_background": "light"
     },
     "output_type": "display_data"
    },
    {
     "data": {
      "image/png": "[encoded data removed]",
      "text/plain": [
       "<Figure size 468.875x360 with 1 Axes>"
      ]
     },
     "metadata": {
      "needs_background": "light"
     },
     "output_type": "display_data"
    },
    {
     "data": {
      "image/png": "[encoded data removed]",
      "text/plain": [
       "<Figure size 468.875x360 with 1 Axes>"
      ]
     },
     "metadata": {
      "needs_background": "light"
     },
     "output_type": "display_data"
    },
    {
     "data": {
      "image/png": "[encoded data removed]",
      "text/plain": [
       "<Figure size 468.875x360 with 1 Axes>"
      ]
     },
     "metadata": {
      "needs_background": "light"
     },
     "output_type": "display_data"
    },
    {
     "data": {
      "image/png": "[encoded data removed]",
      "text/plain": [
       "<Figure size 468.875x360 with 1 Axes>"
      ]
     },
     "metadata": {
      "needs_background": "light"
     },
     "output_type": "display_data"
    },
    {
     "data": {
      "image/png": "[encoded data removed]",
      "text/plain": [
       "<Figure size 468.875x360 with 1 Axes>"
      ]
     },
     "metadata": {
      "needs_background": "light"
     },
     "output_type": "display_data"
    }
   ],
   "source": [
    "all_features = [\"Category\", \"Patient safety\", \"Additional monitoring\", \"Generic\", \"Biosimilar\", \"Conditional approval\", \"Exceptional circumstances\", \"Accelerated assessment\", \"Orphan medicine\"]\n",
    "for x in all_features: plot_cat_feature(data, x)"
   ]
  },
  {
   "cell_type": "markdown",
   "metadata": {},
   "source": [
    "# Pearson’s correlation coefficien"
   ]
  },
  {
   "cell_type": "code",
   "execution_count": 17,
   "metadata": {},
   "outputs": [
    {
     "data": {
      "text/html": [
       "<div>\n",
       "<style scoped>\n",
       "    .dataframe tbody tr th:only-of-type {\n",
       "        vertical-align: middle;\n",
       "    }\n",
       "\n",
       "    .dataframe tbody tr th {\n",
       "        vertical-align: top;\n",
       "    }\n",
       "\n",
       "    .dataframe thead th {\n",
       "        text-align: right;\n",
       "    }\n",
       "</style>\n",
       "<table border=\"1\" class=\"dataframe\">\n",
       "  <thead>\n",
       "    <tr style=\"text-align: right;\">\n",
       "      <th></th>\n",
       "      <th>Category</th>\n",
       "      <th>Patient safety</th>\n",
       "      <th>Additional monitoring</th>\n",
       "      <th>Generic</th>\n",
       "      <th>Biosimilar</th>\n",
       "      <th>Conditional approval</th>\n",
       "      <th>Exceptional circumstances</th>\n",
       "      <th>Accelerated assessment</th>\n",
       "      <th>Orphan medicine</th>\n",
       "    </tr>\n",
       "  </thead>\n",
       "  <tbody>\n",
       "    <tr>\n",
       "      <th>Category</th>\n",
       "      <td>1.000000</td>\n",
       "      <td>0.007411</td>\n",
       "      <td>0.215631</td>\n",
       "      <td>0.089022</td>\n",
       "      <td>0.080306</td>\n",
       "      <td>0.048171</td>\n",
       "      <td>0.028438</td>\n",
       "      <td>-0.173990</td>\n",
       "      <td>0.143256</td>\n",
       "    </tr>\n",
       "    <tr>\n",
       "      <th>Patient safety</th>\n",
       "      <td>0.007411</td>\n",
       "      <td>1.000000</td>\n",
       "      <td>0.083851</td>\n",
       "      <td>-0.032299</td>\n",
       "      <td>-0.014825</td>\n",
       "      <td>-0.008893</td>\n",
       "      <td>-0.011865</td>\n",
       "      <td>-0.005466</td>\n",
       "      <td>-0.026446</td>\n",
       "    </tr>\n",
       "    <tr>\n",
       "      <th>Additional monitoring</th>\n",
       "      <td>0.215631</td>\n",
       "      <td>0.083851</td>\n",
       "      <td>1.000000</td>\n",
       "      <td>-0.208688</td>\n",
       "      <td>0.197723</td>\n",
       "      <td>0.196305</td>\n",
       "      <td>0.185246</td>\n",
       "      <td>-0.037518</td>\n",
       "      <td>0.236377</td>\n",
       "    </tr>\n",
       "    <tr>\n",
       "      <th>Generic</th>\n",
       "      <td>0.089022</td>\n",
       "      <td>-0.032299</td>\n",
       "      <td>-0.208688</td>\n",
       "      <td>1.000000</td>\n",
       "      <td>-0.082570</td>\n",
       "      <td>-0.049529</td>\n",
       "      <td>-0.066087</td>\n",
       "      <td>-0.030442</td>\n",
       "      <td>-0.147295</td>\n",
       "    </tr>\n",
       "    <tr>\n",
       "      <th>Biosimilar</th>\n",
       "      <td>0.080306</td>\n",
       "      <td>-0.014825</td>\n",
       "      <td>0.197723</td>\n",
       "      <td>-0.082570</td>\n",
       "      <td>1.000000</td>\n",
       "      <td>-0.022733</td>\n",
       "      <td>-0.030333</td>\n",
       "      <td>-0.013972</td>\n",
       "      <td>-0.067607</td>\n",
       "    </tr>\n",
       "    <tr>\n",
       "      <th>Conditional approval</th>\n",
       "      <td>0.048171</td>\n",
       "      <td>-0.008893</td>\n",
       "      <td>0.196305</td>\n",
       "      <td>-0.049529</td>\n",
       "      <td>-0.022733</td>\n",
       "      <td>1.000000</td>\n",
       "      <td>-0.018195</td>\n",
       "      <td>-0.008381</td>\n",
       "      <td>0.228596</td>\n",
       "    </tr>\n",
       "    <tr>\n",
       "      <th>Exceptional circumstances</th>\n",
       "      <td>0.028438</td>\n",
       "      <td>-0.011865</td>\n",
       "      <td>0.185246</td>\n",
       "      <td>-0.066087</td>\n",
       "      <td>-0.030333</td>\n",
       "      <td>-0.018195</td>\n",
       "      <td>1.000000</td>\n",
       "      <td>0.165746</td>\n",
       "      <td>0.258430</td>\n",
       "    </tr>\n",
       "    <tr>\n",
       "      <th>Accelerated assessment</th>\n",
       "      <td>-0.173990</td>\n",
       "      <td>-0.005466</td>\n",
       "      <td>-0.037518</td>\n",
       "      <td>-0.030442</td>\n",
       "      <td>-0.013972</td>\n",
       "      <td>-0.008381</td>\n",
       "      <td>0.165746</td>\n",
       "      <td>1.000000</td>\n",
       "      <td>-0.024925</td>\n",
       "    </tr>\n",
       "    <tr>\n",
       "      <th>Orphan medicine</th>\n",
       "      <td>0.143256</td>\n",
       "      <td>-0.026446</td>\n",
       "      <td>0.236377</td>\n",
       "      <td>-0.147295</td>\n",
       "      <td>-0.067607</td>\n",
       "      <td>0.228596</td>\n",
       "      <td>0.258430</td>\n",
       "      <td>-0.024925</td>\n",
       "      <td>1.000000</td>\n",
       "    </tr>\n",
       "  </tbody>\n",
       "</table>\n",
       "</div>"
      ],
      "text/plain": [
       "                           Category  Patient safety  Additional monitoring  \\\n",
       "Category                   1.000000        0.007411               0.215631   \n",
       "Patient safety             0.007411        1.000000               0.083851   \n",
       "Additional monitoring      0.215631        0.083851               1.000000   \n",
       "Generic                    0.089022       -0.032299              -0.208688   \n",
       "Biosimilar                 0.080306       -0.014825               0.197723   \n",
       "Conditional approval       0.048171       -0.008893               0.196305   \n",
       "Exceptional circumstances  0.028438       -0.011865               0.185246   \n",
       "Accelerated assessment    -0.173990       -0.005466              -0.037518   \n",
       "Orphan medicine            0.143256       -0.026446               0.236377   \n",
       "\n",
       "                            Generic  Biosimilar  Conditional approval  \\\n",
       "Category                   0.089022    0.080306              0.048171   \n",
       "Patient safety            -0.032299   -0.014825             -0.008893   \n",
       "Additional monitoring     -0.208688    0.197723              0.196305   \n",
       "Generic                    1.000000   -0.082570             -0.049529   \n",
       "Biosimilar                -0.082570    1.000000             -0.022733   \n",
       "Conditional approval      -0.049529   -0.022733              1.000000   \n",
       "Exceptional circumstances -0.066087   -0.030333             -0.018195   \n",
       "Accelerated assessment    -0.030442   -0.013972             -0.008381   \n",
       "Orphan medicine           -0.147295   -0.067607              0.228596   \n",
       "\n",
       "                           Exceptional circumstances  Accelerated assessment  \\\n",
       "Category                                    0.028438               -0.173990   \n",
       "Patient safety                             -0.011865               -0.005466   \n",
       "Additional monitoring                       0.185246               -0.037518   \n",
       "Generic                                    -0.066087               -0.030442   \n",
       "Biosimilar                                 -0.030333               -0.013972   \n",
       "Conditional approval                       -0.018195               -0.008381   \n",
       "Exceptional circumstances                   1.000000                0.165746   \n",
       "Accelerated assessment                      0.165746                1.000000   \n",
       "Orphan medicine                             0.258430               -0.024925   \n",
       "\n",
       "                           Orphan medicine  \n",
       "Category                          0.143256  \n",
       "Patient safety                   -0.026446  \n",
       "Additional monitoring             0.236377  \n",
       "Generic                          -0.147295  \n",
       "Biosimilar                       -0.067607  \n",
       "Conditional approval              0.228596  \n",
       "Exceptional circumstances         0.258430  \n",
       "Accelerated assessment           -0.024925  \n",
       "Orphan medicine                   1.000000  "
      ]
     },
     "execution_count": 17,
     "metadata": {},
     "output_type": "execute_result"
    }
   ],
   "source": [
    "data.drop(['Authorisation status'], axis=1).corr()"
   ]
  },
  {
   "cell_type": "markdown",
   "metadata": {},
   "source": [
    "# **Feature Selection**"
   ]
  },
  {
   "cell_type": "markdown",
   "metadata": {},
   "source": [
    "# Let's split the dataset to two sets (training and validation). Use only the training set to perform feature selection to avoid data leakage. Hence, not touching the validation (test) set."
   ]
  },
  {
   "cell_type": "code",
   "execution_count": 18,
   "metadata": {},
   "outputs": [],
   "source": [
    "X = data[all_features]\n",
    "y = data['Authorisation status']"
   ]
  },
  {
   "cell_type": "code",
   "execution_count": 19,
   "metadata": {},
   "outputs": [],
   "source": [
    "X_train, X_val, y_train, y_val= train_test_split(X, y, test_size=validation_size, random_state=seed)"
   ]
  },
  {
   "cell_type": "markdown",
   "metadata": {},
   "source": [
    "# Based on Pearson’s correlation coefficient"
   ]
  },
  {
   "cell_type": "code",
   "execution_count": 20,
   "metadata": {},
   "outputs": [],
   "source": [
    "training_set = pd.concat([X_train, y_train], axis=1)"
   ]
  },
  {
   "cell_type": "code",
   "execution_count": 21,
   "metadata": {},
   "outputs": [
    {
     "data": {
      "text/html": [
       "<div>\n",
       "<style scoped>\n",
       "    .dataframe tbody tr th:only-of-type {\n",
       "        vertical-align: middle;\n",
       "    }\n",
       "\n",
       "    .dataframe tbody tr th {\n",
       "        vertical-align: top;\n",
       "    }\n",
       "\n",
       "    .dataframe thead th {\n",
       "        text-align: right;\n",
       "    }\n",
       "</style>\n",
       "<table border=\"1\" class=\"dataframe\">\n",
       "  <thead>\n",
       "    <tr style=\"text-align: right;\">\n",
       "      <th></th>\n",
       "      <th>Category</th>\n",
       "      <th>Patient safety</th>\n",
       "      <th>Additional monitoring</th>\n",
       "      <th>Generic</th>\n",
       "      <th>Biosimilar</th>\n",
       "      <th>Conditional approval</th>\n",
       "      <th>Exceptional circumstances</th>\n",
       "      <th>Accelerated assessment</th>\n",
       "      <th>Orphan medicine</th>\n",
       "      <th>Authorisation status</th>\n",
       "    </tr>\n",
       "  </thead>\n",
       "  <tbody>\n",
       "    <tr>\n",
       "      <th>Category</th>\n",
       "      <td>1.000000</td>\n",
       "      <td>-0.003622</td>\n",
       "      <td>0.222309</td>\n",
       "      <td>0.084216</td>\n",
       "      <td>0.080652</td>\n",
       "      <td>0.045997</td>\n",
       "      <td>0.045149</td>\n",
       "      <td>-0.156739</td>\n",
       "      <td>0.146493</td>\n",
       "      <td>-0.033441</td>\n",
       "    </tr>\n",
       "    <tr>\n",
       "      <th>Patient safety</th>\n",
       "      <td>-0.003622</td>\n",
       "      <td>1.000000</td>\n",
       "      <td>0.048399</td>\n",
       "      <td>-0.030513</td>\n",
       "      <td>-0.013854</td>\n",
       "      <td>-0.007901</td>\n",
       "      <td>-0.010609</td>\n",
       "      <td>-0.004704</td>\n",
       "      <td>-0.025163</td>\n",
       "      <td>0.003625</td>\n",
       "    </tr>\n",
       "    <tr>\n",
       "      <th>Additional monitoring</th>\n",
       "      <td>0.222309</td>\n",
       "      <td>0.048399</td>\n",
       "      <td>1.000000</td>\n",
       "      <td>-0.208868</td>\n",
       "      <td>0.207651</td>\n",
       "      <td>0.187946</td>\n",
       "      <td>0.206533</td>\n",
       "      <td>-0.034845</td>\n",
       "      <td>0.249481</td>\n",
       "      <td>0.175101</td>\n",
       "    </tr>\n",
       "    <tr>\n",
       "      <th>Generic</th>\n",
       "      <td>0.084216</td>\n",
       "      <td>-0.030513</td>\n",
       "      <td>-0.208868</td>\n",
       "      <td>1.000000</td>\n",
       "      <td>-0.082009</td>\n",
       "      <td>-0.046771</td>\n",
       "      <td>-0.062800</td>\n",
       "      <td>-0.027843</td>\n",
       "      <td>-0.148957</td>\n",
       "      <td>0.038734</td>\n",
       "    </tr>\n",
       "    <tr>\n",
       "      <th>Biosimilar</th>\n",
       "      <td>0.080652</td>\n",
       "      <td>-0.013854</td>\n",
       "      <td>0.207651</td>\n",
       "      <td>-0.082009</td>\n",
       "      <td>1.000000</td>\n",
       "      <td>-0.021235</td>\n",
       "      <td>-0.028513</td>\n",
       "      <td>-0.012641</td>\n",
       "      <td>-0.067630</td>\n",
       "      <td>0.056940</td>\n",
       "    </tr>\n",
       "    <tr>\n",
       "      <th>Conditional approval</th>\n",
       "      <td>0.045997</td>\n",
       "      <td>-0.007901</td>\n",
       "      <td>0.187946</td>\n",
       "      <td>-0.046771</td>\n",
       "      <td>-0.021235</td>\n",
       "      <td>1.000000</td>\n",
       "      <td>-0.016261</td>\n",
       "      <td>-0.007210</td>\n",
       "      <td>0.188075</td>\n",
       "      <td>0.032474</td>\n",
       "    </tr>\n",
       "    <tr>\n",
       "      <th>Exceptional circumstances</th>\n",
       "      <td>0.045149</td>\n",
       "      <td>-0.010609</td>\n",
       "      <td>0.206533</td>\n",
       "      <td>-0.062800</td>\n",
       "      <td>-0.028513</td>\n",
       "      <td>-0.016261</td>\n",
       "      <td>1.000000</td>\n",
       "      <td>0.080927</td>\n",
       "      <td>0.289048</td>\n",
       "      <td>0.009990</td>\n",
       "    </tr>\n",
       "    <tr>\n",
       "      <th>Accelerated assessment</th>\n",
       "      <td>-0.156739</td>\n",
       "      <td>-0.004704</td>\n",
       "      <td>-0.034845</td>\n",
       "      <td>-0.027843</td>\n",
       "      <td>-0.012641</td>\n",
       "      <td>-0.007210</td>\n",
       "      <td>0.080927</td>\n",
       "      <td>1.000000</td>\n",
       "      <td>-0.022961</td>\n",
       "      <td>-0.002301</td>\n",
       "    </tr>\n",
       "    <tr>\n",
       "      <th>Orphan medicine</th>\n",
       "      <td>0.146493</td>\n",
       "      <td>-0.025163</td>\n",
       "      <td>0.249481</td>\n",
       "      <td>-0.148957</td>\n",
       "      <td>-0.067630</td>\n",
       "      <td>0.188075</td>\n",
       "      <td>0.289048</td>\n",
       "      <td>-0.022961</td>\n",
       "      <td>1.000000</td>\n",
       "      <td>0.076298</td>\n",
       "    </tr>\n",
       "    <tr>\n",
       "      <th>Authorisation status</th>\n",
       "      <td>-0.033441</td>\n",
       "      <td>0.003625</td>\n",
       "      <td>0.175101</td>\n",
       "      <td>0.038734</td>\n",
       "      <td>0.056940</td>\n",
       "      <td>0.032474</td>\n",
       "      <td>0.009990</td>\n",
       "      <td>-0.002301</td>\n",
       "      <td>0.076298</td>\n",
       "      <td>1.000000</td>\n",
       "    </tr>\n",
       "  </tbody>\n",
       "</table>\n",
       "</div>"
      ],
      "text/plain": [
       "                           Category  Patient safety  Additional monitoring  \\\n",
       "Category                   1.000000       -0.003622               0.222309   \n",
       "Patient safety            -0.003622        1.000000               0.048399   \n",
       "Additional monitoring      0.222309        0.048399               1.000000   \n",
       "Generic                    0.084216       -0.030513              -0.208868   \n",
       "Biosimilar                 0.080652       -0.013854               0.207651   \n",
       "Conditional approval       0.045997       -0.007901               0.187946   \n",
       "Exceptional circumstances  0.045149       -0.010609               0.206533   \n",
       "Accelerated assessment    -0.156739       -0.004704              -0.034845   \n",
       "Orphan medicine            0.146493       -0.025163               0.249481   \n",
       "Authorisation status      -0.033441        0.003625               0.175101   \n",
       "\n",
       "                            Generic  Biosimilar  Conditional approval  \\\n",
       "Category                   0.084216    0.080652              0.045997   \n",
       "Patient safety            -0.030513   -0.013854             -0.007901   \n",
       "Additional monitoring     -0.208868    0.207651              0.187946   \n",
       "Generic                    1.000000   -0.082009             -0.046771   \n",
       "Biosimilar                -0.082009    1.000000             -0.021235   \n",
       "Conditional approval      -0.046771   -0.021235              1.000000   \n",
       "Exceptional circumstances -0.062800   -0.028513             -0.016261   \n",
       "Accelerated assessment    -0.027843   -0.012641             -0.007210   \n",
       "Orphan medicine           -0.148957   -0.067630              0.188075   \n",
       "Authorisation status       0.038734    0.056940              0.032474   \n",
       "\n",
       "                           Exceptional circumstances  Accelerated assessment  \\\n",
       "Category                                    0.045149               -0.156739   \n",
       "Patient safety                             -0.010609               -0.004704   \n",
       "Additional monitoring                       0.206533               -0.034845   \n",
       "Generic                                    -0.062800               -0.027843   \n",
       "Biosimilar                                 -0.028513               -0.012641   \n",
       "Conditional approval                       -0.016261               -0.007210   \n",
       "Exceptional circumstances                   1.000000                0.080927   \n",
       "Accelerated assessment                      0.080927                1.000000   \n",
       "Orphan medicine                             0.289048               -0.022961   \n",
       "Authorisation status                        0.009990               -0.002301   \n",
       "\n",
       "                           Orphan medicine  Authorisation status  \n",
       "Category                          0.146493             -0.033441  \n",
       "Patient safety                   -0.025163              0.003625  \n",
       "Additional monitoring             0.249481              0.175101  \n",
       "Generic                          -0.148957              0.038734  \n",
       "Biosimilar                       -0.067630              0.056940  \n",
       "Conditional approval              0.188075              0.032474  \n",
       "Exceptional circumstances         0.289048              0.009990  \n",
       "Accelerated assessment           -0.022961             -0.002301  \n",
       "Orphan medicine                   1.000000              0.076298  \n",
       "Authorisation status              0.076298              1.000000  "
      ]
     },
     "execution_count": 21,
     "metadata": {},
     "output_type": "execute_result"
    }
   ],
   "source": [
    "training_set.corr()"
   ]
  },
  {
   "cell_type": "markdown",
   "metadata": {},
   "source": [
    "# Baseed on the Chi-Squared Statistic."
   ]
  },
  {
   "cell_type": "markdown",
   "metadata": {},
   "source": [
    "**Helper function for feature selection**"
   ]
  },
  {
   "cell_type": "code",
   "execution_count": 22,
   "metadata": {},
   "outputs": [],
   "source": [
    "def select_cat_features_chi(X, y):\n",
    "    col = X.columns    \n",
    "    fs_chi = SelectKBest(chi2, k='all')\n",
    "    fs_chi.fit(X, y)\n",
    "    plt.barh([i for i in range(len(fs_chi.scores_))], fs_chi.scores_)\n",
    "    plt.xlabel('Score')\n",
    "    plt.title('Chi-Squared Statistic')   \n",
    "    plt.yticks(ticks=range(len(col)), labels=col)\n",
    "    for i in range(len(fs_chi.scores_)):\n",
    "        print('%s: %f' % (col[i], fs_chi.scores_[i]))"
   ]
  },
  {
   "cell_type": "code",
   "execution_count": 23,
   "metadata": {},
   "outputs": [
    {
     "name": "stdout",
     "output_type": "stream",
     "text": [
      "Category: 0.194581\n",
      "Patient safety: 0.015294\n",
      "Additional monitoring: 27.962378\n",
      "Generic: 1.486842\n",
      "Biosimilar: 3.657118\n",
      "Conditional approval: 1.219039\n",
      "Exceptional circumstances: 0.114274\n",
      "Accelerated assessment: 0.006168\n",
      "Orphan medicine: 6.065877\n"
     ]
    },
    {
     "data": {
      "image/png": "[encoded data removed]",
      "text/plain": [
       "<Figure size 432x288 with 1 Axes>"
      ]
     },
     "metadata": {
      "needs_background": "light"
     },
     "output_type": "display_data"
    }
   ],
   "source": [
    "select_cat_features_chi(X_train, y_train) "
   ]
  },
  {
   "cell_type": "markdown",
   "metadata": {},
   "source": [
    "**Select the feature set.**"
   ]
  },
  {
   "cell_type": "code",
   "execution_count": 24,
   "metadata": {},
   "outputs": [],
   "source": [
    "fs = ['Additional monitoring', 'Orphan medicine', 'Biosimilar', 'Generic', 'Conditional approval', 'Category']"
   ]
  },
  {
   "cell_type": "markdown",
   "metadata": {},
   "source": [
    "**Extract predictors and target variable based on the selected features (imbalanced data)**"
   ]
  },
  {
   "cell_type": "code",
   "execution_count": 25,
   "metadata": {},
   "outputs": [],
   "source": [
    "X_train_fs = X_train[fs]\n",
    "X_val_fs = X_val[fs]"
   ]
  },
  {
   "cell_type": "markdown",
   "metadata": {},
   "source": [
    "# **Training on imbalanced data**"
   ]
  },
  {
   "cell_type": "markdown",
   "metadata": {},
   "source": [
    "**Models**"
   ]
  },
  {
   "cell_type": "code",
   "execution_count": 26,
   "metadata": {},
   "outputs": [],
   "source": [
    "logisticRegr = LogisticRegression()\n",
    "clf_RF = RandomForestClassifier()\n",
    "clf_svc = svm.SVC()  "
   ]
  },
  {
   "cell_type": "markdown",
   "metadata": {},
   "source": [
    "**Helper function for calculating accuracy, specificity, and sensitivity.**"
   ]
  },
  {
   "cell_type": "code",
   "execution_count": 27,
   "metadata": {},
   "outputs": [],
   "source": [
    "def model_performance(X, y, model):\n",
    "    tn, fp, fn, tp = confusion_matrix(y, model.predict(X)).ravel()\n",
    "    acc = (tp + tn)/ (tn + fp + fn + tp)\n",
    "    specificity = tn / (tn+fp)\n",
    "    sensitivity = tp / (tp+fn)\n",
    "    return round(acc, 3), round(specificity, 3), round(sensitivity, 3)"
   ]
  },
  {
   "cell_type": "markdown",
   "metadata": {},
   "source": [
    "**Logistic Regression Model trained with imbalanced data.**"
   ]
  },
  {
   "cell_type": "code",
   "execution_count": 28,
   "metadata": {},
   "outputs": [
    {
     "name": "stdout",
     "output_type": "stream",
     "text": [
      "Accuracy of Logistic Regression Model trained with imbalanced data (train set): 0.814\n",
      "The performance of Logistic Regression Model trained with imbalanced data:\n",
      "Accuracy: 0.818\n",
      "Specificity: 0.0\n",
      "Sensitivity: 1.0\n"
     ]
    }
   ],
   "source": [
    "logisticRegr.fit(X_train_fs, y_train)\n",
    "acc_train, _, _ = model_performance(X_train_fs, y_train, logisticRegr)\n",
    "print(f'Accuracy of Logistic Regression Model trained with imbalanced data (train set): {acc_train}')\n",
    "acc, spe, sen = model_performance(X_val_fs, y_val, logisticRegr)\n",
    "print('The performance of Logistic Regression Model trained with imbalanced data:', f'Accuracy: {acc}', f'Specificity: {spe}', f'Sensitivity: {sen}', sep='\\n')"
   ]
  },
  {
   "cell_type": "code",
   "execution_count": 29,
   "metadata": {},
   "outputs": [
    {
     "data": {
      "image/png": "[encoded data removed]",
      "text/plain": [
       "<Figure size 432x288 with 2 Axes>"
      ]
     },
     "metadata": {
      "needs_background": "light"
     },
     "output_type": "display_data"
    }
   ],
   "source": [
    "plot_confusion_matrix(logisticRegr, X_val_fs, y_val, display_labels=[\"Unauthorized\", \"Authorized\"]).ax_.set_title('Logistic Regression Model trained with imbalanced data');"
   ]
  },
  {
   "cell_type": "markdown",
   "metadata": {},
   "source": [
    "**Random Forest Classifier trained with imbalanced data**"
   ]
  },
  {
   "cell_type": "code",
   "execution_count": 30,
   "metadata": {},
   "outputs": [
    {
     "name": "stdout",
     "output_type": "stream",
     "text": [
      "Accuracy of Random Forest Model trained with imbalanced data (train set): 0.815\n",
      "The performance of Random Forest Model trained with imbalanced data:\n",
      "Accuracy: 0.821\n",
      "Specificity: 1.0\n",
      "Sensitivity: 1.0\n"
     ]
    }
   ],
   "source": [
    "clf_RF.fit(X_train_fs, y_train)\n",
    "acc_train, _, _ = model_performance(X_train_fs, y_train, clf_RF)\n",
    "print(f'Accuracy of Random Forest Model trained with imbalanced data (train set): {acc_train}')\n",
    "acc, spe, spe = model_performance(X_val_fs, y_val, clf_RF)\n",
    "print('The performance of Random Forest Model trained with imbalanced data:', f'Accuracy: {acc}', f'Specificity: {spe}', f'Sensitivity: {sen}', sep='\\n')"
   ]
  },
  {
   "cell_type": "code",
   "execution_count": 31,
   "metadata": {},
   "outputs": [
    {
     "data": {
      "image/png": "[encoded data removed]",
      "text/plain": [
       "<Figure size 432x288 with 2 Axes>"
      ]
     },
     "metadata": {
      "needs_background": "light"
     },
     "output_type": "display_data"
    }
   ],
   "source": [
    "plot_confusion_matrix(clf_RF, X_val_fs, y_val, display_labels=[\"Unauthorized\", \"Authorized\"]).ax_.set_title('Random Forest Classifier trained with imbalanced data');"
   ]
  },
  {
   "cell_type": "markdown",
   "metadata": {},
   "source": [
    "# **Training on resampled data**"
   ]
  },
  {
   "cell_type": "code",
   "execution_count": 32,
   "metadata": {},
   "outputs": [],
   "source": [
    "training_set_im = pd.concat([X_train_fs, y_train], axis=1)"
   ]
  },
  {
   "cell_type": "code",
   "execution_count": 33,
   "metadata": {},
   "outputs": [],
   "source": [
    "majority = training_set_im[training_set_im['Authorisation status']==1] \n",
    "minority = training_set_im[training_set_im['Authorisation status']==0] "
   ]
  },
  {
   "cell_type": "markdown",
   "metadata": {},
   "source": [
    "# Downsample majority class"
   ]
  },
  {
   "cell_type": "code",
   "execution_count": 34,
   "metadata": {},
   "outputs": [],
   "source": [
    "majority_downsampled = resample(majority, replace=False, n_samples=len(minority), random_state=seed)"
   ]
  },
  {
   "cell_type": "markdown",
   "metadata": {},
   "source": [
    "**Combine minority class with downsampled majority class**"
   ]
  },
  {
   "cell_type": "code",
   "execution_count": 35,
   "metadata": {},
   "outputs": [],
   "source": [
    "downsampled = pd.concat([majority_downsampled, minority])"
   ]
  },
  {
   "cell_type": "markdown",
   "metadata": {},
   "source": [
    "**Shuffle to avoid any element of bias/patterns**"
   ]
  },
  {
   "cell_type": "code",
   "execution_count": 36,
   "metadata": {},
   "outputs": [],
   "source": [
    "downsampled = downsampled.sample(frac=1)"
   ]
  },
  {
   "cell_type": "markdown",
   "metadata": {},
   "source": [
    "**Define predictors variable and target variable based on the downsampled data**"
   ]
  },
  {
   "cell_type": "code",
   "execution_count": 37,
   "metadata": {},
   "outputs": [],
   "source": [
    "X_down_train = downsampled.drop(['Authorisation status'], axis=1)\n",
    "y_down_train = downsampled['Authorisation status']"
   ]
  },
  {
   "cell_type": "markdown",
   "metadata": {},
   "source": [
    "**Logistic Regression Model trained with downsampled data**"
   ]
  },
  {
   "cell_type": "code",
   "execution_count": 38,
   "metadata": {},
   "outputs": [
    {
     "name": "stdout",
     "output_type": "stream",
     "text": [
      "Accuracy of Logistic Regression Model trained with Down-sampled data (train set): 0.603\n",
      "The performance of Logistic Regression Model trained with Down-sampled data:\n",
      "Accuracy: 0.596\n",
      "Specificity: 0.62\n",
      "Sensitivity: 0.591\n"
     ]
    }
   ],
   "source": [
    "logisticRegr.fit(X_down_train, y_down_train) \n",
    "acc_train, _, _ = model_performance(X_down_train, y_down_train, logisticRegr)\n",
    "print(f'Accuracy of Logistic Regression Model trained with Down-sampled data (train set): {acc_train}')\n",
    "acc, spe, sen = model_performance(X_val_fs, y_val, logisticRegr)\n",
    "print('The performance of Logistic Regression Model trained with Down-sampled data:', f'Accuracy: {acc}', f'Specificity: {spe}', f'Sensitivity: {sen}', sep='\\n')"
   ]
  },
  {
   "cell_type": "code",
   "execution_count": 39,
   "metadata": {},
   "outputs": [
    {
     "data": {
      "image/png": "[encoded data removed]",
      "text/plain": [
       "<Figure size 432x288 with 2 Axes>"
      ]
     },
     "metadata": {
      "needs_background": "light"
     },
     "output_type": "display_data"
    }
   ],
   "source": [
    "plot_confusion_matrix(logisticRegr, X_val_fs, y_val, display_labels=[\"Unauthorized\", \"Authorized\"]).ax_.set_title('Logistic Regression Model trained with Down-sampled data');"
   ]
  },
  {
   "cell_type": "markdown",
   "metadata": {},
   "source": [
    "# Upsample minority class"
   ]
  },
  {
   "cell_type": "code",
   "execution_count": 40,
   "metadata": {},
   "outputs": [],
   "source": [
    "minority_upsampled = resample(minority, replace=True, n_samples=len(majority), random_state=seed) "
   ]
  },
  {
   "cell_type": "markdown",
   "metadata": {},
   "source": [
    "**Combine majority class with upsampled minority class**"
   ]
  },
  {
   "cell_type": "code",
   "execution_count": 41,
   "metadata": {},
   "outputs": [],
   "source": [
    "upsampled = pd.concat([minority_upsampled, majority])"
   ]
  },
  {
   "cell_type": "markdown",
   "metadata": {},
   "source": [
    "**Define predictors variable and target variable based on the upsampled data**"
   ]
  },
  {
   "cell_type": "code",
   "execution_count": 42,
   "metadata": {},
   "outputs": [],
   "source": [
    "X_up_train = upsampled.drop(['Authorisation status'], axis=1)\n",
    "y_up_train = upsampled['Authorisation status']"
   ]
  },
  {
   "cell_type": "markdown",
   "metadata": {},
   "source": [
    "**Logistic Regression Model trained with upsampled data**"
   ]
  },
  {
   "cell_type": "code",
   "execution_count": 43,
   "metadata": {},
   "outputs": [
    {
     "name": "stdout",
     "output_type": "stream",
     "text": [
      "Accuracy of Logistic Regression Model trained with Up-sampled data (train set): 0.638\n",
      "The performance of Logistic Regression Model trained with Up-sampled data:\n",
      "Accuracy: 0.596\n",
      "Specificity: 0.62\n",
      "Sensitivity: 0.591\n"
     ]
    }
   ],
   "source": [
    "logisticRegr.fit(X_up_train, y_up_train)\n",
    "acc_train, _, _ = model_performance(X_up_train, y_up_train, logisticRegr)\n",
    "print(f'Accuracy of Logistic Regression Model trained with Up-sampled data (train set): {acc_train}')\n",
    "acc, spe, sen = model_performance(X_val_fs, y_val, logisticRegr)\n",
    "print('The performance of Logistic Regression Model trained with Up-sampled data:', f'Accuracy: {acc}', f'Specificity: {spe}', f'Sensitivity: {sen}', sep='\\n')"
   ]
  },
  {
   "cell_type": "code",
   "execution_count": 44,
   "metadata": {},
   "outputs": [
    {
     "data": {
      "image/png": "[encoded data removed]",
      "text/plain": [
       "<Figure size 432x288 with 2 Axes>"
      ]
     },
     "metadata": {
      "needs_background": "light"
     },
     "output_type": "display_data"
    }
   ],
   "source": [
    "plot_confusion_matrix(logisticRegr, X_val_fs, y_val, display_labels=[\"Unauthorized\", \"Authorized\"]).ax_.set_title('Logistic Regression Model trained with Up-sampled data');"
   ]
  },
  {
   "cell_type": "markdown",
   "metadata": {},
   "source": [
    "# Support Vector Classification Model trained with downsampled data"
   ]
  },
  {
   "cell_type": "code",
   "execution_count": 45,
   "metadata": {},
   "outputs": [
    {
     "name": "stdout",
     "output_type": "stream",
     "text": [
      "Accuracy of Support Vector Classification Model trained with Down-sampled data (train set): 0.608\n",
      "The performance of Support Vector Classification Model trained with Down-sampled data:\n",
      "Accuracy: 0.588\n",
      "Specificity: 0.62\n",
      "Sensitivity: 0.581\n"
     ]
    }
   ],
   "source": [
    "clf_svc.fit(X_down_train, y_down_train)\n",
    "acc_train, _, _ = model_performance(X_down_train, y_down_train, clf_svc)\n",
    "print(f'Accuracy of Support Vector Classification Model trained with Down-sampled data (train set): {acc_train}')\n",
    "acc, spe, sen = model_performance(X_val_fs, y_val, clf_svc)\n",
    "print('The performance of Support Vector Classification Model trained with Down-sampled data:', f'Accuracy: {acc}', f'Specificity: {spe}', f'Sensitivity: {sen}', sep='\\n')"
   ]
  },
  {
   "cell_type": "code",
   "execution_count": 46,
   "metadata": {},
   "outputs": [
    {
     "data": {
      "image/png": "[encoded data removed]",
      "text/plain": [
       "<Figure size 432x288 with 2 Axes>"
      ]
     },
     "metadata": {
      "needs_background": "light"
     },
     "output_type": "display_data"
    }
   ],
   "source": [
    "plot_confusion_matrix(clf_svc, X_val_fs, y_val, display_labels=[\"Unauthorized\", \"Authorized\"]).ax_.set_title('Support Vector Classification Model trained with Down-sampled data');"
   ]
  },
  {
   "cell_type": "markdown",
   "metadata": {},
   "source": [
    "# Neural Network trained with imbalanced data"
   ]
  },
  {
   "cell_type": "code",
   "execution_count": 47,
   "metadata": {},
   "outputs": [],
   "source": [
    "weight_for_0 = (1 / 289)*(1561)/2.0 \n",
    "weight_for_1 = (1 / 1272)*(1561)/2.0\n",
    "\n",
    "c_w = {0: weight_for_0,\n",
    "       1: weight_for_1}\n",
    "\n",
    "METRICS = [\n",
    "      tf.keras.metrics.TruePositives(name='tp'),\n",
    "      tf.keras.metrics.FalsePositives(name='fp'),\n",
    "      tf.keras.metrics.TrueNegatives(name='tn'),\n",
    "      tf.keras.metrics.FalseNegatives(name='fn'), \n",
    "      tf.keras.metrics.BinaryAccuracy(name='accuracy'),\n",
    "      tf.keras.metrics.Recall(name='recall'),\n",
    "]"
   ]
  },
  {
   "cell_type": "code",
   "execution_count": 48,
   "metadata": {},
   "outputs": [
    {
     "data": {
      "text/plain": [
       "<tensorflow.python.keras.callbacks.History at 0x7f14b8e37850>"
      ]
     },
     "execution_count": 48,
     "metadata": {},
     "output_type": "execute_result"
    }
   ],
   "source": [
    "n_features = len(fs)\n",
    "model = tf.keras.Sequential()\n",
    "model.add(tf.keras.layers.Dense(units=16, activation='relu', kernel_initializer='he_normal', input_shape=(n_features,)))\n",
    "model.add(tf.keras.layers.Dropout(0.5))\n",
    "model.add(tf.keras.layers.Dense(units=1, activation='sigmoid'))\n",
    "model.compile(optimizer='adam', loss='binary_crossentropy', metrics=METRICS)\n",
    "model.fit(X_train_fs, y_train, epochs=100, batch_size=32, class_weight=c_w, verbose=0)"
   ]
  },
  {
   "cell_type": "code",
   "execution_count": 49,
   "metadata": {},
   "outputs": [
    {
     "name": "stdout",
     "output_type": "stream",
     "text": [
      "Accuracy of Neural Network trained with imbalanced data (train set): 0.62\n",
      "The performance of Neural Network trained with imbalanced data:\n",
      "Accuracy: 0.60\n",
      "Specificity: 0.62\n",
      "Sensitivity: 0.59\n"
     ]
    }
   ],
   "source": [
    "acc_train = model.evaluate(X_train_fs, y_train, verbose=0)[5]\n",
    "print(f'Accuracy of Neural Network trained with imbalanced data (train set): {acc_train:.2f}')\n",
    "metrics = model.evaluate(X_val_fs, y_val, verbose=0)\n",
    "spe = metrics[3] / (metrics[3]+metrics[2])\n",
    "sen = metrics[1] / (metrics[1]+metrics[4])\n",
    "print('The performance of Neural Network trained with imbalanced data:', f'Accuracy: {metrics[5]:.2f}', f'Specificity: {spe:.2f}', f'Sensitivity: {sen:.2f}', sep='\\n')"
   ]
  },
  {
   "cell_type": "code",
   "execution_count": 50,
   "metadata": {},
   "outputs": [
    {
     "data": {
      "image/png": "[encoded data removed]",
      "text/plain": [
       "<Figure size 360x288 with 2 Axes>"
      ]
     },
     "metadata": {
      "needs_background": "light"
     },
     "output_type": "display_data"
    }
   ],
   "source": [
    "ax = sns.heatmap([[metrics[3], metrics[2]], [metrics[4], metrics[1]]], annot=True, fmt=\".0f\")\n",
    "ax.figure.set_size_inches(5, 4)\n",
    "ax.set_title('Neural Network trained with imbalanced data')\n",
    "ax.set_ylabel('True label')\n",
    "ax.set_xlabel('Predicted label')\n",
    "ax.set_xticklabels(labels=[\"Unauthorized\", \"Authorized\"])\n",
    "ax.set_yticklabels(labels=[\"Unauthorized\", \"Authorized\"], rotation='horizontal');"
   ]
  }
 ],
 "metadata": {
  "kernelspec": {
   "display_name": "Python 3",
   "language": "python",
   "name": "python3"
  },
  "language_info": {
   "codemirror_mode": {
    "name": "ipython",
    "version": 3
   },
   "file_extension": ".py",
   "mimetype": "text/x-python",
   "name": "python",
   "nbconvert_exporter": "python",
   "pygments_lexer": "ipython3",
   "version": "3.8.5"
  }
 },
 "nbformat": 4,
 "nbformat_minor": 4
}
